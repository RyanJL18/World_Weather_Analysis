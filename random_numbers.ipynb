{
 "cells": [
  {
   "cell_type": "code",
   "execution_count": 1,
   "id": "b6560f78-78d0-40ca-94ae-2002892b539f",
   "metadata": {},
   "outputs": [],
   "source": [
    "# Import the random module\n",
    "import random"
   ]
  },
  {
   "cell_type": "code",
   "execution_count": 2,
   "id": "70a76e6a-428f-45d4-8f48-0a9af47309a8",
   "metadata": {},
   "outputs": [
    {
     "data": {
      "text/plain": [
       "-81"
      ]
     },
     "execution_count": 2,
     "metadata": {},
     "output_type": "execute_result"
    }
   ],
   "source": [
    "random.randint(-90,90)"
   ]
  },
  {
   "cell_type": "code",
   "execution_count": 3,
   "id": "22cd2077-ede9-43bb-b3d5-6ae971f488c6",
   "metadata": {},
   "outputs": [
    {
     "data": {
      "text/plain": [
       "0.06561296749280776"
      ]
     },
     "execution_count": 3,
     "metadata": {},
     "output_type": "execute_result"
    }
   ],
   "source": [
    "random.random()"
   ]
  },
  {
   "cell_type": "code",
   "execution_count": 5,
   "id": "15d8f870-94b8-40f8-b363-579cdc073c0f",
   "metadata": {},
   "outputs": [
    {
     "data": {
      "text/plain": [
       "-83.65920182032467"
      ]
     },
     "execution_count": 5,
     "metadata": {},
     "output_type": "execute_result"
    }
   ],
   "source": [
    "random_number = random.randint(-90,89) + random.random()\n",
    "random_number"
   ]
  },
  {
   "cell_type": "code",
   "execution_count": 9,
   "id": "9049bd12-9380-4c09-ad12-e252cd24f831",
   "metadata": {},
   "outputs": [
    {
     "data": {
      "text/plain": [
       "[29.931264795273567,\n",
       " 58.713377484391856,\n",
       " 29.028658930109675,\n",
       " -78.1860193356562,\n",
       " -27.170284945662925,\n",
       " -37.1193155081885,\n",
       " -22.391536988573034,\n",
       " 66.3391771558999,\n",
       " -86.6379849929705,\n",
       " -9.299125579547395]"
      ]
     },
     "execution_count": 9,
     "metadata": {},
     "output_type": "execute_result"
    }
   ],
   "source": [
    "x = 1\n",
    "latitudes = []\n",
    "while x < 11:\n",
    "        random_lat = random.randint(-90,89) + random.random()\n",
    "        latitudes.append(random_lat)\n",
    "        x += 1\n",
    "latitudes"
   ]
  },
  {
   "cell_type": "code",
   "execution_count": 10,
   "id": "2eb96efe-02ad-4850-920b-a1fc5a8490f6",
   "metadata": {},
   "outputs": [],
   "source": [
    "# import the NumPy module.\n",
    "import numpy as np"
   ]
  },
  {
   "cell_type": "code",
   "execution_count": 11,
   "id": "354e7cbe-1443-4b4c-9027-e394ffd85f94",
   "metadata": {},
   "outputs": [
    {
     "data": {
      "text/plain": [
       "56.98826627667819"
      ]
     },
     "execution_count": 11,
     "metadata": {},
     "output_type": "execute_result"
    }
   ],
   "source": [
    "np.random.uniform(-90.000,90.000)"
   ]
  },
  {
   "cell_type": "code",
   "execution_count": 12,
   "id": "b61e8ef0-c171-4eb4-90a9-c339fbf7c4c2",
   "metadata": {},
   "outputs": [
    {
     "data": {
      "text/plain": [
       "-57.58961226906019"
      ]
     },
     "execution_count": 12,
     "metadata": {},
     "output_type": "execute_result"
    }
   ],
   "source": [
    "np.random.uniform(low=-90, high=90)"
   ]
  },
  {
   "cell_type": "code",
   "execution_count": 13,
   "id": "f048994d-7f8b-4612-b644-13a998df5bbf",
   "metadata": {},
   "outputs": [
    {
     "data": {
      "text/plain": [
       "array([-56.57039592,  11.26970862,  -3.61125372,  -2.40976727,\n",
       "        23.34109132, -22.01978865,  -8.4883581 , -22.5308013 ,\n",
       "       -72.57776711,  33.43259908, -25.49755873,  44.80003191,\n",
       "       -62.32583586, -74.75316008,  -5.27645277, -67.82763401,\n",
       "       -59.56292752, -36.74153039, -64.0793407 ,  72.51001076,\n",
       "        44.72809208,  -7.35766856, -12.51100712,  52.93697915,\n",
       "       -86.82350109,  49.70162747,  80.52528984,  88.65717733,\n",
       "         6.64293113,   8.0029288 , -40.32742188, -55.78296637,\n",
       "        63.19609281,  17.69256713, -38.34886311,  42.91421662,\n",
       "       -64.06782524,  23.22374296, -73.95039038, -61.63167226,\n",
       "        67.49024282, -47.90458691, -67.95517607,  79.72429323,\n",
       "       -49.88833373, -15.27787332,   1.78756737,  55.89430149,\n",
       "       -24.9398646 ,  -6.59657551])"
      ]
     },
     "execution_count": 13,
     "metadata": {},
     "output_type": "execute_result"
    }
   ],
   "source": [
    "np.random.uniform(-90.000, 90.000, size=50)"
   ]
  },
  {
   "cell_type": "code",
   "execution_count": 14,
   "id": "bf5ee9ed-bed6-44ff-b7ec-c907fe3d8966",
   "metadata": {},
   "outputs": [],
   "source": [
    "# Import timeit.\n",
    "import timeit"
   ]
  },
  {
   "cell_type": "code",
   "execution_count": 16,
   "id": "7afdf2c4-f4b8-4f22-8962-fd791c5029f4",
   "metadata": {},
   "outputs": [
    {
     "name": "stdout",
     "output_type": "stream",
     "text": [
      "26.8 µs ± 1.72 µs per loop (mean ± std. dev. of 7 runs, 10000 loops each)\n"
     ]
    }
   ],
   "source": [
    "%timeit np.random.uniform(-90.000, 90.000, size=1500)"
   ]
  },
  {
   "cell_type": "code",
   "execution_count": 17,
   "id": "e984c7ba-3359-4db2-ab12-cc66957a4a2c",
   "metadata": {},
   "outputs": [
    {
     "name": "stdout",
     "output_type": "stream",
     "text": [
      "2.75 ms ± 158 µs per loop (mean ± std. dev. of 7 runs, 100 loops each)\n"
     ]
    }
   ],
   "source": [
    "def latitudes(size):\n",
    "    latitudes = []\n",
    "    x = 0\n",
    "    while x < (size):\n",
    "        random_lat = random.randint(-90, 90) + random.random()\n",
    "        latitudes.append(random_lat)\n",
    "        x += 1\n",
    "    return latitudes\n",
    "# Call the function with 1500.\n",
    "%timeit latitudes(1500)"
   ]
  },
  {
   "cell_type": "code",
   "execution_count": null,
   "id": "d1625fb8-bdf1-4640-aaf2-9d698ae34c63",
   "metadata": {},
   "outputs": [],
   "source": []
  }
 ],
 "metadata": {
  "kernelspec": {
   "display_name": "PythonData",
   "language": "python",
   "name": "pythondata"
  },
  "language_info": {
   "codemirror_mode": {
    "name": "ipython",
    "version": 3
   },
   "file_extension": ".py",
   "mimetype": "text/x-python",
   "name": "python",
   "nbconvert_exporter": "python",
   "pygments_lexer": "ipython3",
   "version": "3.9.7"
  }
 },
 "nbformat": 4,
 "nbformat_minor": 5
}
